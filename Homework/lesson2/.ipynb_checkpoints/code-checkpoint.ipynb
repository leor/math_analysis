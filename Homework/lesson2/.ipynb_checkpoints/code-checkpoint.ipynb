{
 "cells": [
  {
   "cell_type": "code",
   "execution_count": 1,
   "metadata": {},
   "outputs": [],
   "source": [
    "import numpy as np"
   ]
  },
  {
   "cell_type": "markdown",
   "metadata": {},
   "source": [
    "## Тема “Введение в математических анализ”"
   ]
  },
  {
   "cell_type": "markdown",
   "metadata": {},
   "source": [
    "1. Как относятся друг к другу множество и последовательность? (в ответе использовать слова типа: часть, целое, общее, частное, родитель, дочерний субъект и т.д.)"
   ]
  },
  {
   "cell_type": "markdown",
   "metadata": {},
   "source": [
    "Последовательность является частью элементов множества выбранных последовательно и пронумерованных с помощью натуральных чисел, т.е. его, множества, дочерним субъектом."
   ]
  },
  {
   "cell_type": "markdown",
   "metadata": {},
   "source": [
    "2. Прочитать высказывания математической логики, построить их отрицания и установить истинность."
   ]
  },
  {
   "cell_type": "markdown",
   "metadata": {},
   "source": [
    "|выражение&nbsp;&nbsp;&nbsp;&nbsp;&nbsp;&nbsp;&nbsp;&nbsp;&nbsp;&nbsp;&nbsp;&nbsp;&nbsp;&nbsp;&nbsp;&nbsp;&nbsp;&nbsp;&nbsp;&nbsp;&nbsp;&nbsp;&nbsp;&nbsp;&nbsp;&nbsp;&nbsp;&nbsp;&nbsp;&nbsp;&nbsp;&nbsp;&nbsp;&nbsp;&nbsp;&nbsp;&nbsp;&nbsp;&nbsp;&nbsp;&nbsp;&nbsp;&nbsp;&nbsp;&nbsp;&nbsp;&nbsp;&nbsp;&nbsp;&nbsp;&nbsp;&nbsp;&nbsp;&nbsp;&nbsp;&nbsp;&nbsp;&nbsp;&nbsp;&nbsp;&nbsp;&nbsp;&nbsp;&nbsp;&nbsp;&nbsp;&nbsp;&nbsp;&nbsp;&nbsp;&nbsp;&nbsp;&nbsp;&nbsp;&nbsp;&nbsp;&nbsp;&nbsp;&nbsp;&nbsp;&nbsp;&nbsp;&nbsp;&nbsp;&nbsp;&nbsp;&nbsp;&nbsp;| отрицание&nbsp;&nbsp;&nbsp;&nbsp;&nbsp;&nbsp;&nbsp;&nbsp;&nbsp;&nbsp;&nbsp;&nbsp;&nbsp;&nbsp;&nbsp;&nbsp;&nbsp;&nbsp;&nbsp;&nbsp;&nbsp;&nbsp;&nbsp;&nbsp;&nbsp;&nbsp;&nbsp;&nbsp;&nbsp;&nbsp;&nbsp;&nbsp;&nbsp;&nbsp;&nbsp;&nbsp;&nbsp;&nbsp;&nbsp;&nbsp;&nbsp;&nbsp;&nbsp;&nbsp;&nbsp;&nbsp;&nbsp;&nbsp;&nbsp;&nbsp;&nbsp;&nbsp;&nbsp;&nbsp;&nbsp;&nbsp;&nbsp;&nbsp;&nbsp;&nbsp;&nbsp;&nbsp;&nbsp;&nbsp;&nbsp;&nbsp;&nbsp;&nbsp;&nbsp;&nbsp;&nbsp;&nbsp;&nbsp;&nbsp;&nbsp;&nbsp;&nbsp;&nbsp;&nbsp;&nbsp;&nbsp;&nbsp;&nbsp;&nbsp;&nbsp;&nbsp;&nbsp;&nbsp;|\n",
    "|:-----------------------------------:|:---------------------------------------:|\n",
    "| $ \\forall{y} \\in [0,1] : sgn(y)=1 $ - false | $ \\exists y \\in [0,1] : sgn(y) \\neq 1 $ |\n",
    "| $ \\forall y \\in \\mathbb{N} > 2 : \\exists{x, y, z} \\in \\mathbb{N} : x^n = y^n + z^n $ - false | $ \\exists y \\in \\mathbb{N} > 2 : \\forall{x, y, z} in \\mathbb{N} : x^n \\neq y^n + z^n $ |\n",
    "| $ \\forall x \\in \\mathbb{R} \\,\\exists{X} \\in \\mathbb{R} : X > x $ - true | $ \\exists x \\in \\mathbb{R}\\, \\forall{X} \\in \\mathbb{R} : X \\leq x $ |\n",
    "| $ \\forall{x} \\in \\mathbb{C} \\nexists{y} \\in \\mathbb{C} : x > y \\,\\|\\, x < y $ - true | $ \\exists{x} \\in \\mathbb{C} \\exists{y} \\in \\mathbb{C} : x \\leq y \\,\\|\\, x \\geq y $ (отрицание $ \\nexists $ - есть $ \\exists $ - верно?) | \n",
    "| $ \\forall y \\in [0, \\frac{\\pi}{2}] \\,\\exists \\varepsilon > 0 : sin(y) < sin(y+\\varepsilon) $ - true | $ \\exists y \\in  [0, \\frac{\\pi}{2}] \\,\\forall \\varepsilon > 0 : sin(y) \\geq sin(y + \\varepsilon) $ |\n",
    "| $ \\forall y \\in [0,\\pi)\\, \\exists\\varepsilon > 0 : cos(y) > cos(y+\\varepsilon) $ - true | $ \\exists y \\in [0,\\pi)\\, \\forall\\varepsilon > 0 : cos(y) \\leq cos(y+\\varepsilon) $ |\n",
    "| $ \\exists x : x \\notin {\\{\\mathbb{N},\\mathbb{Z},\\mathbb{Q},\\mathbb{R},\\mathbb{C}\\}} $ - false | $ \\forall x : x \\in {\\{\\mathbb{N},\\mathbb{Z},\\mathbb{Q},\\mathbb{R},\\mathbb{C}\\}} $ |"
   ]
  },
  {
   "cell_type": "markdown",
   "metadata": {},
   "source": [
    "## Тема “Множество”"
   ]
  },
  {
   "cell_type": "markdown",
   "metadata": {},
   "source": [
    "1. Даны три множества a, b и с. Необходимо выполнить все изученные виды бинарных операций над всеми комбинациями множеств."
   ]
  },
  {
   "cell_type": "markdown",
   "metadata": {},
   "source": [
    "Назовём множества A, B, D - т.к. множества именуются большими буквами и букву C использовать нельзя\n",
    "\n",
    "A = {1; 2; 3}  \n",
    "B = {3; 4; 5}  \n",
    "D = {4; 5; 6}"
   ]
  },
  {
   "cell_type": "markdown",
   "metadata": {},
   "source": [
    "$ A \\cup B = \\{ 1;2;3;4;5 \\} $  \n",
    "$ B \\cup D = \\{ 3;4;5;6 \\} $  \n",
    "$ A \\cup D = \\{ 1;2;3;4;5;6 \\} $  \n",
    "$ A \\cup B \\cup D = \\{ 1;2;3;4;5;6 \\} $  \n",
    "  \n",
    "$ A \\cap B = \\{ 3 \\} $  \n",
    "$ B \\cap D = \\{ 4;5 \\} $  \n",
    "$ A \\cap D = \\emptyset $  \n",
    "$ A \\cap B = \\emptyset $  \n",
    "$ A \\cup B \\cap D = \\{ 1; 2; 3;4;5 \\} $  \n",
    "$ A \\cap B \\cup D = \\{ 3;4;5;6 \\} $  \n",
    "$ A \\cap D \\cup B = \\{ 3;4;5 \\} $  \n",
    "\n",
    "$ A \\setminus B = \\{ 1;2 \\} $  \n",
    "$ B \\setminus D = \\{ 3 \\} $  \n",
    "$ A \\setminus D = \\{ 1;2;3 \\} $  \n",
    "$ B \\setminus A = \\{ 4;5 \\} $  \n",
    "$ D \\setminus B = \\{ 6 \\} $  \n",
    "$ D \\setminus A = \\{ 4;5;6 \\} $  \n",
    "$ A \\setminus B \\setminus D = \\{ 1;2 \\} $  \n",
    "$ B \\setminus A \\setminus D = \\emptyset $  \n",
    "$ A \\setminus D \\setminus B = \\{ 1;2 \\} $  \n",
    "$ D \\setminus A \\setminus B = \\{ 6 \\} $  \n",
    "$ A \\cup B \\setminus D = \\{ 1;2;3 \\} $  \n",
    "$ A \\cap B \\setminus D = \\{ 3 \\} $  \n",
    "$ A \\setminus B \\cup D = \\{ 1;2;4;5;6 \\} $  \n",
    "$ A \\setminus B \\cap D = \\{ 1;2;3 \\} $  \n",
    "$ B \\setminus A \\cup D = \\{ 4;5;6 \\} $  \n",
    "$ B \\setminus A \\cap D = \\{ 3;4;5 \\} $  \n",
    "$ A \\setminus D \\cup B = \\{ 1;2;3;4;5 \\} $  \n",
    "$ A \\setminus D \\cap B = \\{ 1;2;3 \\} $  \n",
    "$ D \\setminus A \\cup B = \\{ 3;4;5;6 \\} $  \n",
    "$ D \\setminus A \\cap B = \\{ 4;5;6 \\} $  \n",
    "  \n",
    "$ A \\triangle B = \\{1;2;4;5\\} $  \n",
    "$ B \\triangle D = \\{ 3;6 \\} $  \n",
    "$ A \\triangle D = \\{ 1;2;3;4;5;6 \\} $  \n",
    "$ A \\triangle B \\triangle D = \\{ 1;2;6 \\} $  \n",
    "$ A \\triangle B \\cup D = \\{ 1;2;4;5;6 \\} $  \n",
    "$ A \\triangle B \\cap D = \\{ 1;2;3;4;5 \\} $  \n",
    "$ A \\cap B \\triangle D = \\{ 1;2;3;6 \\} $  \n",
    "$ A \\cup B \\triangle D = \\{ 1;2;6 \\} $  \n",
    "$ A \\triangle B \\setminus D = \\{ 1;2 \\} $  \n",
    "$ A \\setminus B \\triangle D = \\{ 1;2;4;5;6 \\} $  \n",
    "$ A \\triangle D \\setminus B = \\{ 1;2 \\} $  \n",
    "\n",
    "$ A \\times B = \\{\\{1;3\\},\\{1;4\\},\\{1;5\\},\\{2;3\\},\\{2;4\\},\\{2;5\\},\\{3;3\\},\\{3;4\\},\\{3;5\\}\\} $  \n",
    "$ B \\times D = \\{ \\{3;4\\},\\{3;5\\},\\{3;6\\},\\{4;4\\},\\{4;5\\},\\{4;6\\},\\{5;4\\},\\{5;5\\},\\{5;6\\} \\} $  \n",
    "$ A \\times D = \\{ \\{1;4\\},\\{1;5\\},\\{1;6\\},\\{2;4\\},\\{2;5\\},\\{2;6\\},\\{3;4\\},\\{4;5\\},\\{3;6\\} \\} $  \n",
    "$ A \\times B \\times D = \\{\\{1;3;4\\},\\{1;3;5\\},\\{1;3;6\\},\\{1;4;4\\},\\{1;4;5\\},\\{1;4;6\\},\\{1;5;4\\},\\{1;5;5\\},\\{1;5;6\\},\\{2;3;4\\},\\{2;3;5\\},\\{2;3;6\\},\\{2;4;4\\},\\{2;4;5\\},\\{2;4;6\\},\\{2;5;4\\},\\{2;5;5\\},\\{2;5;6\\},\\{3;3;4\\},\\{3;3;5\\},\\{3;3;6\\},\\{3;4;4\\},\\{3;4;5\\},\\{3;4;6\\},\\{3;5;4\\},\\{3;5;5\\},\\{3;5;6\\}\\} $  \n",
    "\n",
    "честно говоря, дальше стало лень писать"
   ]
  },
  {
   "cell_type": "code",
   "execution_count": 2,
   "metadata": {},
   "outputs": [],
   "source": [
    "A = set([1,2,3])\n",
    "B = set([3,4,5])\n",
    "D = set([4,5,6])"
   ]
  },
  {
   "cell_type": "code",
   "execution_count": 3,
   "metadata": {},
   "outputs": [
    {
     "name": "stdout",
     "output_type": "stream",
     "text": [
      "{1, 2, 3, 4, 5}\n",
      "{3, 4, 5, 6}\n",
      "{1, 2, 3, 4, 5, 6}\n",
      "{1, 2, 3, 4, 5, 6}\n",
      "\n",
      "{3}\n",
      "{4, 5}\n",
      "set()\n",
      "set()\n",
      "{1, 2, 3, 4, 5}\n",
      "{3, 4, 5, 6}\n",
      "{1, 2, 3, 4, 5}\n",
      "\n",
      "{1, 2}\n",
      "{3}\n",
      "{1, 2, 3}\n",
      "{4, 5}\n",
      "{6}\n",
      "{4, 5, 6}\n",
      "{1, 2}\n",
      "set()\n",
      "set()\n",
      "{1, 2}\n",
      "{1, 2, 3}\n",
      "{3}\n",
      "{1, 2, 4, 5, 6}\n",
      "set()\n",
      "{1, 2, 3, 4, 5}\n",
      "{3}\n",
      "{3, 4, 5, 6}\n",
      "{4, 5}\n",
      "\n",
      "{1, 2, 4, 5}\n",
      "{3, 6}\n",
      "{1, 2, 3, 4, 5, 6}\n",
      "{1, 2, 6}\n",
      "{1, 2, 4, 5, 6}\n",
      "{1, 2, 3, 4, 5}\n",
      "{1, 2, 3, 6}\n",
      "{3, 4, 5, 6}\n",
      "{1, 2, 4, 5, 6}\n",
      "{1, 2}\n",
      "{1, 2, 3, 6}\n",
      "\n",
      "[[1, 3], [1, 4], [1, 5], [2, 3], [2, 4], [2, 5], [3, 3], [3, 4], [3, 5]]\n",
      "[[3, 4], [3, 5], [3, 6], [4, 4], [4, 5], [4, 6], [5, 4], [5, 5], [5, 6]]\n",
      "[[1, 4], [1, 5], [1, 6], [2, 4], [2, 5], [2, 6], [3, 4], [3, 5], [3, 6]]\n",
      "[[1, 3, 4], [1, 3, 5], [1, 3, 6], [1, 4, 4], [1, 4, 5], [1, 4, 6], [1, 5, 4], [1, 5, 5], [1, 5, 6], [2, 3, 4], [2, 3, 5], [2, 3, 6], [2, 4, 4], [2, 4, 5], [2, 4, 6], [2, 5, 4], [2, 5, 5], [2, 5, 6], [3, 3, 4], [3, 3, 5], [3, 3, 6], [3, 4, 4], [3, 4, 5], [3, 4, 6], [3, 5, 4], [3, 5, 5], [3, 5, 6]]\n"
     ]
    }
   ],
   "source": [
    "print(A.union(B))\n",
    "print(B.union(D))\n",
    "print(A.union(D))\n",
    "print(A | B | D)\n",
    "print()\n",
    "print(A & B)\n",
    "print(B & D)\n",
    "print(A & D)\n",
    "print(A & B & D)\n",
    "print(A | B & D)\n",
    "print(A & B | D)\n",
    "print(A | D & B)\n",
    "print()\n",
    "print(A.difference(B))\n",
    "print(B.difference(D))\n",
    "print(A.difference(D))\n",
    "print(B.difference(A))\n",
    "print(D.difference(B))\n",
    "print(D.difference(A))\n",
    "print(A - B - D)\n",
    "print(B - A - D)\n",
    "print(B - D - A)\n",
    "print(A - D - B)\n",
    "print(A | B - D)\n",
    "print(A & B - D)\n",
    "print(A - B | D)\n",
    "print(A - B & D)\n",
    "print(A - D | B)\n",
    "print(A - D & B)\n",
    "print(D - A | B)\n",
    "print(D - A & B)\n",
    "print()\n",
    "print(A.symmetric_difference(B))\n",
    "print(B.symmetric_difference(D))\n",
    "print(A.symmetric_difference(D))\n",
    "print(A ^ B ^ D)\n",
    "print(A ^ B | D)\n",
    "print(A ^ B & D)\n",
    "print(A | B ^ D)\n",
    "print(A & B ^ D)\n",
    "print(A - B ^ D)\n",
    "print(A ^ B - D)\n",
    "print(A ^ D - B)\n",
    "print()\n",
    "# есть и другие способы реализации декартова произведения (ну, и дальше снова лень, да и время поджимает)\n",
    "print([[x0, y0] for x0 in A for y0 in B])\n",
    "print([[x0, y0] for x0 in B for y0 in D])\n",
    "print([[x0, y0] for x0 in A for y0 in D])\n",
    "print([[x0, y0, z0] for x0 in A for y0 in B for z0 in D])"
   ]
  },
  {
   "cell_type": "markdown",
   "metadata": {},
   "source": [
    "## Тема 3 “Последовательность”\n"
   ]
  },
  {
   "cell_type": "markdown",
   "metadata": {},
   "source": [
    "1. Даны 4 последовательности. Необходимо:\n",
    "    - исследовать их на монотонность; \n",
    "    - исследовать на ограниченность;\n",
    "    - найти пятый по счету член.\n"
   ]
  },
  {
   "cell_type": "markdown",
   "metadata": {},
   "source": [
    "$ \\{ a_n \\}_{n=1}^\\infty = 2^n - n $ - монотонно возрастает, ограничена слева. $ a_5 = 27 $"
   ]
  },
  {
   "cell_type": "markdown",
   "metadata": {},
   "source": [
    "$ \\{ b_n \\}_{n=2}^\\infty = \\frac{1}{1-n} $ - монотонно возрастает, ограничена слева. $ b_5 = \\frac{1}{5} $"
   ]
  },
  {
   "cell_type": "markdown",
   "metadata": {},
   "source": [
    "$ \\{c_n\\}_{n=1}^\\infty = -1^n + \\sqrt{2n} $ - монотонно возрастает, ограничена слева. $ c_5 \\approx{2.16228} $"
   ]
  },
  {
   "cell_type": "markdown",
   "metadata": {},
   "source": [
    "$ \\{ d_n \\}_{n=1}^\\infty = (-1)^{2n} + \\frac{1}{n^2} $ - монотонно убывает, ограничена справа. $ d_5 = 1\\frac{1}{25} $"
   ]
  },
  {
   "cell_type": "markdown",
   "metadata": {},
   "source": [
    "2. Найти 12-й член заданной неявно последовательности  \n",
    "  \n",
    "$ a_1 = 128, a_{n+1} - a_n = 6 $"
   ]
  },
  {
   "cell_type": "markdown",
   "metadata": {},
   "source": [
    "$ a_n = 128 + 6(n-1) $  \n",
    "$ a_{12} = 128 + 66 = 174 $"
   ]
  },
  {
   "cell_type": "code",
   "execution_count": null,
   "metadata": {},
   "outputs": [],
   "source": []
  }
 ],
 "metadata": {
  "kernelspec": {
   "display_name": "Python 3",
   "language": "python",
   "name": "python3"
  },
  "language_info": {
   "codemirror_mode": {
    "name": "ipython",
    "version": 3
   },
   "file_extension": ".py",
   "mimetype": "text/x-python",
   "name": "python",
   "nbconvert_exporter": "python",
   "pygments_lexer": "ipython3",
   "version": "3.7.1"
  }
 },
 "nbformat": 4,
 "nbformat_minor": 2
}
