{
 "cells": [
  {
   "cell_type": "markdown",
   "metadata": {},
   "source": [
    "## 1. Найти производную выражения:"
   ]
  },
  {
   "cell_type": "markdown",
   "metadata": {},
   "source": [
    "a. $ f(x) = sin(x)\\times cos(x), f'(x) = sin(x)cos(x) - cos(x)sin(x) $ - 0? как-так?"
   ]
  },
  {
   "cell_type": "markdown",
   "metadata": {},
   "source": [
    "b. $ f(x) = ln(2x + 1)^3, f'(x) = \\frac{6(2x + 1)^2}{(2x + 1)^3} = \\frac{6}{2x + 1} $"
   ]
  },
  {
   "cell_type": "markdown",
   "metadata": {},
   "source": [
    "c. $ f(x) = \\sqrt{sin^2(ln(x^3))}, f'(x) = \\frac{6x^2 sin(ln(x^3)) \\cdot cos(ln(x^3))}{x^3\\sqrt{sin^2(ln(x^3))}} = \\frac{6 sin(ln(x^3)) cos(ln(x^3))}{x\\sqrt{sin^2(ln(x^3))}} $"
   ]
  },
  {
   "cell_type": "markdown",
   "metadata": {},
   "source": [
    "d. $ f(x) = \\frac{x^4}{ln(x)}, f'(x) = \\frac{4x^3 ln(x) - x^4\\frac{1}{x}}{2ln(x)}\\cdot4x^3\\cdot\\frac{1}{x} = \\frac{4x^3(4x^3 ln(x) - x^3)}{2xln(x)} = \\frac{4x^5(4ln(x)-1)}{ln(x)}$"
   ]
  },
  {
   "cell_type": "markdown",
   "metadata": {},
   "source": [
    "## 2. Найти выражение производной функции и ее значение в точке:"
   ]
  },
  {
   "cell_type": "markdown",
   "metadata": {},
   "source": [
    "$ f(x) = cos(x^2 + 3x), f'(x) = (-sin(x^2+3x))(2x + 3)\\mid_{x_0 = \\sqrt\\pi} = (-(sin\\pi cos3\\sqrt{\\pi} + cos\\pi sin3\\sqrt{\\pi}))(2\\sqrt{\\pi} + 3) \\approx -5.3833 $"
   ]
  },
  {
   "cell_type": "markdown",
   "metadata": {},
   "source": [
    "## 3. Найти значение производной функции в точке"
   ]
  },
  {
   "cell_type": "markdown",
   "metadata": {},
   "source": [
    "$ f(x) = \\frac{x^3 - x^2 - x - 1}{1 + 2x + 3x^2 - 4x^3}, f'(x) = \\frac{1 + 2x + 3x^2 - 4x^3}{x^3 - x^2 - x - 1}\\cdot(x^3 - x^2 - x - 1)'\\cdot(1 + 2x + 3x^2 - 4x^3)' = \\frac{1 + 2x + 3x^2 - 4x^3}{x^3 - x^2 - x - 1}\\cdot(3x^2 - 2x - 1)(2 + 3x - 12x^2) \\mid_{x_0 = 0} = 2 $"
   ]
  },
  {
   "cell_type": "markdown",
   "metadata": {},
   "source": [
    "## 4. Найти угол наклона касательной к графику функции в точке:"
   ]
  },
  {
   "cell_type": "markdown",
   "metadata": {},
   "source": [
    "$ f(x) = \\sqrt{3x} \\cdot \\ln{x}, f'(x) = \\frac{\\sqrt{3x}}{x} + \\frac{3ln{x}}{2\\sqrt{3x}} \\mid_{x_0=1} = \\sqrt{3} $  \n",
    "т.к. производная есть $ tg $ угла наклона касательной к графику, то имеем $ tg{\\alpha} = \\sqrt{3} \\Rightarrow \\alpha = \\frac{\\pi}{3} + s\\pi, s \\in \\mathbb{Z} $  "
   ]
  },
  {
   "cell_type": "code",
   "execution_count": null,
   "metadata": {},
   "outputs": [],
   "source": []
  }
 ],
 "metadata": {
  "kernelspec": {
   "display_name": "Python 3",
   "language": "python",
   "name": "python3"
  },
  "language_info": {
   "codemirror_mode": {
    "name": "ipython",
    "version": 3
   },
   "file_extension": ".py",
   "mimetype": "text/x-python",
   "name": "python",
   "nbconvert_exporter": "python",
   "pygments_lexer": "ipython3",
   "version": "3.7.1"
  }
 },
 "nbformat": 4,
 "nbformat_minor": 2
}
