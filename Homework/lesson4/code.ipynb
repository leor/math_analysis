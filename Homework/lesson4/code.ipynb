{
 "cells": [
  {
   "cell_type": "markdown",
   "metadata": {},
   "source": [
    "## Тема “Предел функции”"
   ]
  },
  {
   "cell_type": "markdown",
   "metadata": {},
   "source": [
    "#### 1. Предложить пример функции, не имеющей предела в нуле и в бесконечностях.\n",
    "\n",
    "любая тригонометрическая функция не имеет предела в бесконечности  \n",
    "видимо, нужно сместить её относительно 0"
   ]
  },
  {
   "cell_type": "markdown",
   "metadata": {},
   "source": [
    "#### 2. Привести пример функции, не имеющей предела в точке, но определенной в ней.  \n",
    "\n",
    "тут у меня проблема"
   ]
  },
  {
   "cell_type": "markdown",
   "metadata": {},
   "source": [
    "#### 3. Исследовать функцию $ f(x) = x^3 - x^2 $ по плану:\n",
    "- Область задания и область значений: $ dom(f) = \\mathbb{R} $, $ ran(f) = \\mathbb{R} $\n",
    "- Нули функции и их кратность: $ x_0 = 0\\, x_1 = 1 $ (корень 0 кратностью 2 и корень кратностью 1)\n",
    "- Отрезки знакопостоянства: $ f(x) > 0 $ при $ x\\in(1,+\\infty) $, $ f(x) < 0 $ при $ x\\in(-\\infty,0)\\cup(0,1) $\n",
    "- Интервалы монотонности: $ f(x) $ неубывает при $ x\\in(-\\infty,0]\\cup[0.7,\\infty) $ , убывает при $ x\\in(0,0.7) $\n",
    "- Четность функции: не обладает свойством чётности\n",
    "- Ограниченность: не ограничена ни сверху, ни снизу\n",
    "- Периодичность: функция апериодична\n",
    "\n",
    "Строил график и исследовал его"
   ]
  },
  {
   "cell_type": "markdown",
   "metadata": {},
   "source": [
    "#### 4. Найти предел:"
   ]
  },
  {
   "cell_type": "markdown",
   "metadata": {},
   "source": [
    "a. $ lim_{x\\rightarrow0}{\\frac{3x^3 - 2x^2}{4x^2}} = -\\frac{2}{4} = -0.5 $  \n",
    "б. $ lim_{x\\rightarrow\\infty}{\\frac{\\sqrt{1+x}-1}{\\sqrt[3]{1+x}-1}} = lim_{x\\rightarrow\\infty}\\frac{\\sqrt{1+x}}{\\sqrt[3]{1+x}} = lim_{x\\rightarrow\\infty}\\sqrt[6]{1+x} = 1 $  \n",
    "в. $ lim_{x\\rightarrow\\infty}{(\\frac{x+3}{x})^{4x+1}} = lim_{x\\rightarrow\\infty}(1 + \\frac{3}{x})^{4x+1} = lim_{x\\rightarrow\\infty}((1 + \\frac{3}{x})^{\\frac{x}{3}})^{\\frac{3(4x+1)}{x}} = lim_{x\\rightarrow\\infty}e^{\\frac{12x + 3}{x}} = e^{lim_{x\\rightarrow\\infty}\\frac{12x + 3}{x}} = e^{lim_{x\\rightarrow\\infty}12 + \\frac{3}{x}} = e^{12} $"
   ]
  },
  {
   "cell_type": "markdown",
   "metadata": {},
   "source": [
    "## Тема “Теоремы о пределах”\n",
    "\n",
    "#### Найти предел:"
   ]
  },
  {
   "cell_type": "markdown",
   "metadata": {},
   "source": [
    "a. $ lim_{x\\rightarrow0}\\frac{sin(2x)}{4x} = \\lim_{x\\rightarrow0}\\frac{1}{2}\\times\\lim_{x\\rightarrow0}\\frac{sin(2x)}{2x} = \\frac{1}{2} $"
   ]
  },
  {
   "cell_type": "markdown",
   "metadata": {},
   "source": [
    "b. $ \\lim_{x\\rightarrow0}\\frac{x}{sin(x)} = \\frac{\\lim_{x\\rightarrow0} = 1}{\\lim_{x\\rightarrow0} = \\frac{sin(x)}{x}} = \\frac{1}{1} = 1 $"
   ]
  },
  {
   "cell_type": "markdown",
   "metadata": {},
   "source": [
    "c. $ \\lim_{x\\rightarrow0}\\frac{x}{arcsin(x)} = \\frac{\\lim_{x\\rightarrow0} = 1}{\\lim_{x\\rightarrow0} = \\frac{arcsin(x)}{x}} = \\frac{1}{1} = 1 $"
   ]
  },
  {
   "cell_type": "markdown",
   "metadata": {},
   "source": [
    "d. $ lim_{x\\rightarrow\\infty}(\\frac{4x+3}{4x-3})^{6x} = lim_{x\\rightarrow\\infty}(1 + \\frac{6}{4x-3})^{6x} = lim_{x\\rightarrow\\infty}((1 + \\frac{6}{4x-3})^{\\frac{4x-3}{6}})^{6x\\frac{6}{4x-3}} = lim_{x\\rightarrow\\infty}e^{\\frac{12x}{4x-3}} = e^{lim_{x\\rightarrow\\infty}{\\frac{12x}{4x-3}}} = e^{lim_{x\\rightarrow\\infty}{\\frac{3}{1-\\frac{3}{4x}}}} = e^3  $"
   ]
  },
  {
   "cell_type": "markdown",
   "metadata": {},
   "source": [
    "e. $ lim_{x\\rightarrow0}\\frac{sin(x)+ln(x)}{x} = lim_{x\\rightarrow0}\\frac{sin(x)}{x} + lim_{x\\rightarrow0}\\frac{ln(x)}{x} = 1 - \\infty = -\\infty $"
   ]
  },
  {
   "cell_type": "code",
   "execution_count": null,
   "metadata": {},
   "outputs": [],
   "source": []
  }
 ],
 "metadata": {
  "kernelspec": {
   "display_name": "Python 3",
   "language": "python",
   "name": "python3"
  },
  "language_info": {
   "codemirror_mode": {
    "name": "ipython",
    "version": 3
   },
   "file_extension": ".py",
   "mimetype": "text/x-python",
   "name": "python",
   "nbconvert_exporter": "python",
   "pygments_lexer": "ipython3",
   "version": "3.7.1"
  }
 },
 "nbformat": 4,
 "nbformat_minor": 2
}
