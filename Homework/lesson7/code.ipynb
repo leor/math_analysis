{
 "cells": [
  {
   "cell_type": "markdown",
   "metadata": {},
   "source": [
    "## Найти производную функции:"
   ]
  },
  {
   "cell_type": "markdown",
   "metadata": {},
   "source": [
    "1. $ y = \\frac{1}{x} + \\frac{2}{x^2} - \\frac{5}{x^3} + \\sqrt{x} - \\sqrt[3]{x} + \\frac{3}{\\sqrt{x}}, y' = -\\frac{1}{x^2} - \\frac{4}{x^3} + \\frac{15}{x^4} + \\frac{1}{2\\sqrt{x}} - \\frac{1}{3\\sqrt[3]{x^2}} - \\frac{3}{2\\sqrt{x}}  $"
   ]
  },
  {
   "cell_type": "markdown",
   "metadata": {},
   "source": [
    "2. $ y = x\\sqrt{1 + x^2}, y' = \\sqrt{1 + x^2} + \\frac{2x^2}{\\sqrt{1+x^2}} $"
   ]
  },
  {
   "cell_type": "markdown",
   "metadata": {},
   "source": [
    "3. $ y = \\sqrt{x + \\sqrt{x}}, y' = \\frac{1}{2\\sqrt{x + \\sqrt{x}}}(1 + \\frac{1}{2\\sqrt{x}}) $"
   ]
  },
  {
   "cell_type": "markdown",
   "metadata": {},
   "source": [
    "4. $ y = \\sqrt{x + \\sqrt{x + \\sqrt{x}}}, y' = \\frac{1}{2\\sqrt{x + \\sqrt{x + \\sqrt{x}}}}(1 + \\frac{1}{2\\sqrt{x + \\sqrt{x}}}(1 + \\frac{1}{2\\sqrt{x}})) $"
   ]
  },
  {
   "cell_type": "markdown",
   "metadata": {},
   "source": [
    "5. $ y = (x^2 + 2)^5 \\cdot (3x - x^3)^3, y' = (x^2 + 2)^5 \\cdot (3x - x^3)^3(\\frac{10x}{x^2 + 2} + \\frac{3(3 - 3x^2)}{3x - x^3}) $"
   ]
  },
  {
   "cell_type": "markdown",
   "metadata": {},
   "source": [
    "6. $ y = (1 + x)(2 - x)^2(x^2 - 3x)^3sin(x), y' = (1 + x)(2 - x)^2(x^2 - 3x)^3sin(x)(\\frac{1}{1+𝑥} + \\frac{2}{2-x} + \\frac{3x-6}{x^2-3x} + \\frac{sin(x)}{cos(x)}) $"
   ]
  },
  {
   "cell_type": "markdown",
   "metadata": {},
   "source": [
    "7. $ y = \\sqrt[x]{x}, y' = \\frac{1}{x\\sqrt[x]{x^{x-1}}} $"
   ]
  },
  {
   "cell_type": "markdown",
   "metadata": {},
   "source": [
    "8. $ y = \\frac{2x}{1-x^2}, y' = \\frac{2(1-x^2) + 4x^2}{(1-x^2)^2} $"
   ]
  },
  {
   "cell_type": "markdown",
   "metadata": {},
   "source": [
    "9. $ y = \\frac{x}{(x+1)(2-3x)}, y' = \\frac{(x+1)(2-3x) - x((2-3x) - 3(x+1))}{((x+1)(2-3x))^2} $"
   ]
  },
  {
   "cell_type": "markdown",
   "metadata": {},
   "source": [
    "10. $ y = \\frac{(2 - x^2)^3(x-1)^2}{(2x^3-3x)e^x}, y' = \\frac{(2 - x^2)^3(x-1)^2}{(2x^3-3x)e^x}\\cdot(\\frac{-6x}{(2 - x^2)^2} + \\frac{2}{x-1} - \\frac{6x^2-3}{2x^3-3x} - 1) $"
   ]
  },
  {
   "cell_type": "markdown",
   "metadata": {},
   "source": [
    "11. $ y = ln(x + \\sqrt{x^2+1}), y' = \\frac{1 + \\frac{x}{\\sqrt{x^2+1}}}{x + \\sqrt{x^2+1}} $"
   ]
  },
  {
   "cell_type": "markdown",
   "metadata": {},
   "source": [
    "12. $ y = x \\cdot ln(x + \\sqrt{x^2+1}) - \\sqrt{x^2+1}, y' = ln(x + \\sqrt{x^2+1}) + \\frac{x + \\frac{x^2}{\\sqrt{x^2+1}}}{x + \\sqrt{x^2+1}} - \\frac{2x}{2\\sqrt{x^2+1}} $"
   ]
  },
  {
   "cell_type": "markdown",
   "metadata": {},
   "source": [
    "13. $ y = arcsin(sin(x)), y' = \\frac{cos(x)}{\\sqrt{1-sin^2{x}}} $"
   ]
  },
  {
   "cell_type": "markdown",
   "metadata": {},
   "source": [
    "14. $ P = 2x + 2y = 144 \\Rightarrow x = \\frac{144-2y}{2} = 72-y $  \n",
    "$ S = xy = y(72 - y) = 72y - y^2 $  \n",
    "$ S' = 72-2y = 0, y = 36 $  \n",
    "  \n",
    "в точке $ y = 36 $ S принимает наибольшее значение $ \\Rightarrow $ при x = 36 и y = 36 площадь наибольшая "
   ]
  },
  {
   "cell_type": "code",
   "execution_count": null,
   "metadata": {},
   "outputs": [],
   "source": []
  },
  {
   "cell_type": "code",
   "execution_count": null,
   "metadata": {},
   "outputs": [],
   "source": []
  }
 ],
 "metadata": {
  "kernelspec": {
   "display_name": "Python 3",
   "language": "python",
   "name": "python3"
  },
  "language_info": {
   "codemirror_mode": {
    "name": "ipython",
    "version": 3
   },
   "file_extension": ".py",
   "mimetype": "text/x-python",
   "name": "python",
   "nbconvert_exporter": "python",
   "pygments_lexer": "ipython3",
   "version": "3.7.1"
  }
 },
 "nbformat": 4,
 "nbformat_minor": 2
}
