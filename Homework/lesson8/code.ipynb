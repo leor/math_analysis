{
 "cells": [
  {
   "cell_type": "markdown",
   "metadata": {},
   "source": [
    "## Найти частные производные первого и второго порядка. Убедиться в равенстве смешанных производных"
   ]
  },
  {
   "cell_type": "markdown",
   "metadata": {},
   "source": [
    "#### 1. $ U = x^3 + 3xy^2 + z^2 - 39x - 36y + 2z + 26 $  \n",
    "$ U'_x = 3x^2 + 3y^2 - 39 $  \n",
    "$ U'_y = 6xy - 36 $  \n",
    "$ U'_z = 2z + 2 $  \n",
    "$ U''_{xy} = 6y $  \n",
    "$ U''_{yx} = 6y $"
   ]
  },
  {
   "cell_type": "markdown",
   "metadata": {},
   "source": [
    "#### 2. $ U = \\frac{256}{x} + \\frac{x^2}{y} + \\frac{y^2}{z} + z^2 $  \n",
    "$ U'_x = -\\frac{256}{x^2} + \\frac{2x}{y} $  \n",
    "$ U'_y = -\\frac{x^2}{y^2} + \\frac{2y}{z} $  \n",
    "$ U'_z = -\\frac{y^2}{z^2} + 2z $  \n",
    "$ U''_{xy} = -\\frac{2x}{y^2},\\,U''_{yx} = -\\frac{2x}{y^2} $  \n",
    "$ U''_{zy} = -\\frac{2y}{z^2},\\,U''_{yz} = -\\frac{2y}{z^2} $"
   ]
  },
  {
   "cell_type": "markdown",
   "metadata": {},
   "source": [
    "#### 3. Найти производную функции $ U = x^2 + y^2 + z^2 $ по направлению вектора $ \\vec{c} = (−9, 8, −12)$ в точку $M(8; −12; 9)$.  \n",
    "$ U'_x = 2x,\\,U'_y = 2y,\\,U'_z = 2z $  \n",
    "$ U'_x(8; −12; 9) = 16 $  \n",
    "$ U'_y(8; −12; 9) = -24 $  \n",
    "$ U'_z(8; −12; 9) = 18 $\n",
    "  \n",
    "$ |\\vec{c}| = \\sqrt{(-9)^2 + 8^2 + (-12)^2} = \\sqrt{81+64+144} = \\sqrt{289} = 17 $  \n",
    "$ \\vec{c_0} = (-\\frac{9}{17}; \\frac{8}{17}; -\\frac{12}{17}) $\n",
    "  \n",
    "$ U'_{\\vec{c}}\\mid_{(8; −12; 9)} = -\\frac{144}{17} - \\frac{194}{17} - \\frac{216}{17} = -\\frac{554}{17}  $"
   ]
  },
  {
   "cell_type": "markdown",
   "metadata": {},
   "source": [
    "#### 4. Найти производную функции $ U = e^{x^2+y^2+z^2} $ по направлению вектора $ \\vec{d} = (4, −13, −16) $ в точку $ L(−16; 4; −13)$.  \n",
    "\n",
    "$ U'\\_x = 2xe^{x^2+y^2+z^2},\\,U'_y = 2ye^{x^2+y^2+z^2},\\,U'_z = 2ze^{x^2+y^2+z^2} $  \n",
    "$ U'\\_x(−16; 4; −13) = -32e^{(-16)^2+4^2+(-13)^2} = -32e^{256+16+169} = -32e^{441} $  \n",
    "$ U'\\_y(−16; 4; −13) = 8e^{(-16)^2+4^2+(-13)^2} = 8e^{256+16+169} = 8e^{441} $  \n",
    "$ U'\\_z(−16; 4; −13) = -26e^{(-16)^2+4^2+(-13)^2} = -26e^{256+16+169} = -26e^{441} $  \n",
    "  \n",
    "$ |\\vec{d}| = \\sqrt{4^2 + (-13)^2 + (-16)^2} = \\sqrt{441} $  \n",
    "$ \\vec{d_0} = (\\frac{4\\sqrt{441}}{441}, -\\frac{13\\sqrt{441}}{441}, -\\frac{16\\sqrt{441}}{441}) $  \n",
    "  \n",
    "$ U'_{\\vec{c}}\\mid_{(−16; 4; −13)} = \\frac{-32e^{441}\\cdot 4\\sqrt{441}}{441} + \\frac{8e^{441}\\cdot -13\\sqrt{441}}{441} + \\frac{-26e^{441}\\cdot -16\\sqrt{441}}{441} = \\frac{{184}e^{441}\\sqrt{441}}{441} $ - как-то можно упростить?"
   ]
  },
  {
   "cell_type": "markdown",
   "metadata": {},
   "source": [
    "#### 5. Найти производную функции $ U = \\log_{21}(x^2 + y^2 + z^2) $ в точку $F(−19; 8; −4)$ по самому быстрому направлению.\n",
    "\n",
    "$ U'_x = \\frac{2x}{(x^2 + y^2 + z^2)ln21},\\,U'_y = \\frac{2y}{(x^2 + y^2 + z^2)ln21},\\,U'_z = \\frac{2z}{(x^2 + y^2 + z^2)ln21} $  \n",
    "$ gradU\\mid_{(−19; 8; −4)} = (-\\frac{38}{441ln21}, \\frac{16}{441ln21}, -\\frac{8}{441ln21}) $  \n",
    "$ |gradU\\mid_{(−19; 8; −4)}| = \\sqrt{(-\\frac{38}{441ln21})^2 + (\\frac{16}{441ln21})^2 + (-\\frac{8}{441ln21})^2} = \\sqrt{\\frac{1444}{441^2ln^2{21}} + \\frac{256}{441^2ln^2{21}} + \\frac{64}{441^2ln^2{21}}} = \\sqrt{\\frac{1764}{441^2ln^2{21}}} = \\frac{42}{441ln21} $  \n",
    "$ gradU_0\\mid_{(−19; 8; −4)} = (-\\frac{798}{441ln21}; \\frac{336}{441ln21}; -\\frac{168}{441ln21}) $  \n",
    "  \n",
    "$ U'_{gradU}\\mid_{(−19; 8; −4)} = \\frac{798\\cdot38}{441^2ln^2{21}} + \\frac{336\\cdot16}{441^2ln^2{21}} + \\frac{168\\cdot8}{441^2ln^2{21}} = \\frac{37044}{441^2ln^2{21}} = \\frac{84}{441ln^2{21}} $"
   ]
  },
  {
   "cell_type": "markdown",
   "metadata": {},
   "source": [
    "### Исследовать на экстремум следующие функции:"
   ]
  },
  {
   "cell_type": "markdown",
   "metadata": {},
   "source": [
    "#### 6. $ U = x^2y + \\frac{1}{3}y^3 + 2x^2 + 3y^2 - 1 $  \n",
    "\\begin{equation*}\n",
    " \\begin{cases}\n",
    "  U'_x = 2yx + 4x = 0\\\\\n",
    "  \\\\\n",
    "  U'_y = x^2 + y^2 + 6y = 0\n",
    " \\end{cases}\n",
    " \\Rightarrow\n",
    " \\begin{cases}\n",
    "  -\\sqrt{y^2 + 6y}(2y + 4) = 0\\\\\n",
    "  \\\\\n",
    "  x = -\\sqrt{y^2 + 6y}\n",
    " \\end{cases}\n",
    " \\Rightarrow\n",
    " \\begin{cases}\n",
    "  \\left[\n",
    "   \\begin{array}{ccc}\n",
    "    y = -2\\\\\n",
    "    y = -6\n",
    "   \\end{array}\n",
    "   \\Rightarrow\n",
    "   \\begin{array}{ccc}\n",
    "    (-\\sqrt{-8}, -2)\\\\\n",
    "    (0, -6)\n",
    "   \\end{array}\n",
    "  \\right.\n",
    "  \\\\\n",
    "  x = -\\sqrt{y^2 + 6y}\n",
    " \\end{cases}\n",
    "\\end{equation*}\n",
    "  \n",
    "$ U'_x = 2yx + 4x $  \n",
    "$ U'_y = x^2 + y^2 + 6y $  \n",
    "$ U''_{xx} = 2y+4,\\,U''_{yy} = 2y + 6, U''_{xy} = U''_{yx} = 2x $  \n",
    "\n",
    "\\begin{pmatrix}\n",
    "  U''_{xx}, U''_{xy}\\\\\n",
    "  U''_{yx}, U''_{yy}\n",
    "\\end{pmatrix} = \n",
    "\\begin{pmatrix}\n",
    "  2y+4,\\, 2x\\\\\n",
    "  2x,\\, 2y+6\n",
    "\\end{pmatrix}\n",
    "  \n",
    "$$ \\Delta_1 = 2y+4 $$\n",
    "\n",
    "$ \\Delta_2 $ = \n",
    "\\begin{vmatrix}\n",
    " 2y+4,\\, 2x\\\\\n",
    " 2x,\\, 2y+6\n",
    "\\end{vmatrix} $$ = (2y+4)\\cdot(2y+6) - 4x^2 = 2y^2 + 8y + 12y + 24 - 4x^2 = 2y^2 + 20y +24 - 4x^2 $$\n",
    "  \n",
    "$$ (-\\sqrt{-8}, -2) $$\n",
    "$$ \\Delta_1 = 2y+4 = 0 $$\n",
    "1й минор равен 0 и теория с матрицей Гессе не работает - и я не знаю, что делать\n",
    "\n",
    "$$ (0, -6) $$\n",
    "$$ \\Delta_1 = 2y+4 = -8 < 0 $$\n",
    "$$ \\Delta_2 = 2y^2 + 20y +24 - 4x^2 = 2\\cdot36 + 20\\cdot36 + 24 - 4\\cdot0 = 816 > 0 $$\n",
    "точка (0;-6) является точкой максимума"
   ]
  },
  {
   "cell_type": "code",
   "execution_count": null,
   "metadata": {},
   "outputs": [],
   "source": []
  },
  {
   "cell_type": "code",
   "execution_count": null,
   "metadata": {},
   "outputs": [],
   "source": []
  }
 ],
 "metadata": {
  "kernelspec": {
   "display_name": "Python 3",
   "language": "python",
   "name": "python3"
  },
  "language_info": {
   "codemirror_mode": {
    "name": "ipython",
    "version": 3
   },
   "file_extension": ".py",
   "mimetype": "text/x-python",
   "name": "python",
   "nbconvert_exporter": "python",
   "pygments_lexer": "ipython3",
   "version": "3.7.1"
  }
 },
 "nbformat": 4,
 "nbformat_minor": 2
}
