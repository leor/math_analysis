{
 "cells": [
  {
   "cell_type": "markdown",
   "metadata": {},
   "source": [
    "## Вычислить интегралы"
   ]
  },
  {
   "cell_type": "markdown",
   "metadata": {},
   "source": [
    "### 1. $$ \\int{\\frac{2x+3}{(x-2)(x+5)}dx} = (*) $$"
   ]
  },
  {
   "cell_type": "markdown",
   "metadata": {},
   "source": [
    "$$ \\frac{A}{x-2} + \\frac{B}{x+5} = \\frac{2x+3}{(x-2)(x+5)} $$\n",
    "$$ A(x+5) + B(x-2) = 2x+3 $$\n",
    "$$ (Ax+5A) + (Bx-2B) = 2x+3 $$\n",
    "\n",
    "\\begin{equation*}\n",
    "    \\begin{cases}\n",
    "    A + B = 2\\\\\n",
    "    5A - 2B = 3\n",
    "    \\end{cases}\n",
    "    \\Rightarrow\n",
    "    \\begin{cases}\n",
    "    A = 2 - B\\\\\n",
    "    5(2 - B) - 2B = 3\n",
    "    \\end{cases}\n",
    "    \\Rightarrow\n",
    "    \\begin{cases}\n",
    "    A = 2 - B\\\\\n",
    "    7B = 7\n",
    "    \\end{cases}\n",
    "    \\Rightarrow\n",
    "    \\begin{cases}\n",
    "    A = 1\\\\\n",
    "    B = 1\n",
    "    \\end{cases}\n",
    "\\end{equation*}\n",
    "\n",
    "\n",
    "$$ (*) = \\int{\\frac{1}{x-2} + \\frac{1}{x+5}}dx = \\int{\\frac{dx}{x-2}} + \\int{\\frac{dx}{x+5}} = \\ln{|x-2|} + \\ln{|x+5|} + C $$"
   ]
  },
  {
   "cell_type": "markdown",
   "metadata": {},
   "source": [
    "### 2. $$ \\int{e^{2x}\\cos3x}dx = (*) $$"
   ]
  },
  {
   "cell_type": "markdown",
   "metadata": {},
   "source": [
    "$$ U = e^{2x} \\Rightarrow dU = 2e^{2x}dx $$\n",
    "$$ dV = \\cos{3x}dx \\Rightarrow V = -3\\sin{3x} $$\n",
    "$$ (*) = -3e^{2x}\\sin{3x} + 6\\int{e^{2x}\\sin{3x}dx} = (**) $$\n",
    "$$ U = e^{2x} \\Rightarrow dU = 2e^{2x}dx $$\n",
    "$$ dV = \\sin{3x}dx \\Rightarrow V = 3\\cos{3x} $$\n",
    "$$ (**) =  -3e^{2x}\\sin{3x} + 6(3e^{2x}\\cos{3x} - 6\\int{e^{2x}\\cos{3x}dx}) = -3e^{2x}\\sin{3x} + 18e^{2x}\\cos{3x} - 36\\int{e^{2x}\\cos{3x}dx} = \\frac{-3e^{2x}\\sin{3x} + 18e^{2x}\\cos{3x}}{37} $$"
   ]
  },
  {
   "cell_type": "markdown",
   "metadata": {},
   "source": [
    "### 3. $$ \\int_0^{\\ln2}{xe^{-x}dx} = (*) $$"
   ]
  },
  {
   "cell_type": "markdown",
   "metadata": {},
   "source": [
    "$$ U = x \\Rightarrow dU = dx $$\n",
    "$$ dV = e^{-x}dx \\Rightarrow V = -e^{-x} $$\n",
    "$$ (*) = -xe^{-x} + \\int{e^{-x}dx} = (**) $$\n",
    "\n",
    "$$ U = -x \\Rightarrow dU = -dx \\Rightarrow -dU = dx $$\n",
    "$$ (**) = -xe^{-x} + \\int-{e^{u}du} = -xe^{-x} - \\int{e^{u}du} = -xe^{-x} - {e^{u}} + C = -xe^{-x} + {e^{-x}} + C $$"
   ]
  },
  {
   "cell_type": "markdown",
   "metadata": {},
   "source": [
    "$$ -xe^{-x} + {e^{-x}} \\mid_0^{\\ln{2}} = (\\ln{2}e^{-ln2} + e^{-ln2}) - (0 + e^0) = \\frac{ln2}{2} + \\frac{1}{2} - 1 = \\frac{ln2 - 1}{2} $$"
   ]
  },
  {
   "cell_type": "code",
   "execution_count": null,
   "metadata": {},
   "outputs": [],
   "source": []
  }
 ],
 "metadata": {
  "kernelspec": {
   "display_name": "Python 3",
   "language": "python",
   "name": "python3"
  },
  "language_info": {
   "codemirror_mode": {
    "name": "ipython",
    "version": 3
   },
   "file_extension": ".py",
   "mimetype": "text/x-python",
   "name": "python",
   "nbconvert_exporter": "python",
   "pygments_lexer": "ipython3",
   "version": "3.7.1"
  }
 },
 "nbformat": 4,
 "nbformat_minor": 2
}
