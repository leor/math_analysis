{
 "cells": [
  {
   "cell_type": "markdown",
   "metadata": {},
   "source": [
    "## Математическая логика"
   ]
  },
  {
   "cell_type": "markdown",
   "metadata": {},
   "source": [
    "### 1\n",
    "Проверить любым способ, является ли данная логическая формула тавтологией:\n",
    "$$ (A \\cup B) \\rightarrow (𝐵 \\cup \\bar{𝐴}) $$ \n",
    "\n",
    "| $ A $ | $ B $ | $ \\bar{A} $ | $ A \\cup B $ | $ 𝐵 \\cup \\bar{𝐴} $ | $ (A \\cup B) \\rightarrow (𝐵 \\cup \\bar{𝐴}) $ |\n",
    "|---|---|------------|--------------|---------------------|:--------------:|\n",
    "| И | И | Л | &nbsp;&nbsp;&nbsp;&nbsp;&nbsp;&nbsp;&nbsp;&nbsp;&nbsp;&nbsp;&nbsp;&nbsp;И | &nbsp;&nbsp;&nbsp;&nbsp;&nbsp;&nbsp;&nbsp;&nbsp;&nbsp;&nbsp;&nbsp;&nbsp;И | &nbsp;&nbsp;&nbsp;&nbsp;&nbsp;&nbsp;&nbsp;&nbsp;&nbsp;&nbsp;&nbsp;&nbsp;&nbsp;&nbsp;&nbsp;&nbsp;&nbsp;&nbsp;&nbsp;&nbsp;&nbsp;&nbsp;&nbsp;&nbsp;&nbsp;&nbsp;&nbsp;&nbsp;&nbsp;&nbsp;&nbsp;&nbsp;&nbsp;&nbsp;&nbsp;&nbsp;И |\n",
    "| И | Л | Л | И | Л | Л |\n",
    "| Л | Л | И | Л | И | И |\n",
    "| Л | И | И | И | И | И |\n",
    "\n",
    "Не является тавталогией"
   ]
  },
  {
   "cell_type": "markdown",
   "metadata": {},
   "source": [
    "$$ A \\rightarrow (A \\cup (\\bar{B} \\cap A)) $$\n",
    "\n",
    "| $ A $ | $ \\bar{B} $ | $ \\bar{B} \\cap A $ | $ A \\cup (\\bar{B} \\cap A) $ | $ A \\rightarrow (A \\cup (\\bar{B} \\cap A)) $ |\n",
    "|----|-----------|---------------|----------------------------------|---------------------------------------|\n",
    "| И | И | &nbsp;&nbsp;&nbsp;&nbsp;&nbsp;&nbsp;&nbsp;&nbsp;&nbsp;&nbsp;&nbsp;&nbsp;И | &nbsp;&nbsp;&nbsp;&nbsp;&nbsp;&nbsp;&nbsp;&nbsp;&nbsp;&nbsp;&nbsp;&nbsp;&nbsp;&nbsp;&nbsp;&nbsp;&nbsp;&nbsp;&nbsp;&nbsp;&nbsp;&nbsp;&nbsp;&nbsp;И | &nbsp;&nbsp;&nbsp;&nbsp;&nbsp;&nbsp;&nbsp;&nbsp;&nbsp;&nbsp;&nbsp;&nbsp;&nbsp;&nbsp;&nbsp;&nbsp;&nbsp;&nbsp;&nbsp;&nbsp;&nbsp;&nbsp;&nbsp;&nbsp;&nbsp;&nbsp;&nbsp;&nbsp;&nbsp;&nbsp;&nbsp;&nbsp;&nbsp;&nbsp;&nbsp;&nbsp;И |\n",
    "| Л | И | Л | Л | И |\n",
    "| И | Л | Л | Л | Л |\n",
    "| Л | Л | Л | Л | И |\n",
    "\n",
    "Не является тавталогией"
   ]
  },
  {
   "cell_type": "markdown",
   "metadata": {},
   "source": [
    "### 2\n",
    "\n",
    "А: сегодня светит солнце;  \n",
    "В: сегодня сыро;  \n",
    "С: я поеду на дачу.\n",
    "  \n",
    "Сформулируйте словесно высказывания:"
   ]
  },
  {
   "cell_type": "markdown",
   "metadata": {},
   "source": [
    "$ (\\bar{A} \\cup B) \\rightarrow \\bar{C} $ - если не светит солнце или сыро, то я не поеду на дачу"
   ]
  },
  {
   "cell_type": "markdown",
   "metadata": {},
   "source": [
    "$ С \\rightarrow (A \\cup \\bar{B}) $ - я поеду на дачу, потому что сегодня светит солнце или (так-то ИЛИ, но благозвучнее сказать И) не сыро"
   ]
  },
  {
   "cell_type": "markdown",
   "metadata": {},
   "source": [
    "### 3 \n",
    "\n",
    "Пользуясь правилом построения противоположного высказывания, записать утверждения, противоположные следующим:"
   ]
  },
  {
   "cell_type": "markdown",
   "metadata": {},
   "source": [
    "На любом курсе каждого факультета есть студенты, сдающие все экзамены на «отлично».  \n",
    "A - множество курсов всех факультетов  \n",
    "E - множество студентов-отличников  \n",
    "  \n",
    "$ \\forall A \\,\\exists E $  \n",
    "$ \\exists A \\,\\forall E $"
   ]
  },
  {
   "cell_type": "markdown",
   "metadata": {},
   "source": [
    "Каждый студент философского факультета имеет друга, который умеет решать все логические задачи.  \n",
    "F - множество студентов философского факультета  \n",
    "M - множество людей, умеющих решать логические задачи  \n",
    "  \n",
    "$ \\forall F \\,\\exists M $  \n",
    "$ \\exists F \\,\\forall M $"
   ]
  },
  {
   "cell_type": "markdown",
   "metadata": {},
   "source": [
    "В любом самолете на рейсе Вашингтон-Москва присутствует хотя бы один сотрудник силовых органов, в каждой пуговице одежды которого вмонтирован микрофон.  \n",
    "F - множество самолетов на рейсе Вашингтон-Москва  \n",
    "G - множество сотрудников силовых органов, в каждой пуговице одежды которого вмонтирован микрофон  \n",
    "  \n",
    "$ \\forall F \\, \\exists G $  \n",
    "$ \\exists F \\, \\forall G $"
   ]
  },
  {
   "cell_type": "markdown",
   "metadata": {},
   "source": [
    "## Множества. Предел последовательности"
   ]
  },
  {
   "cell_type": "markdown",
   "metadata": {},
   "source": [
    "#### Представьте в виде несократимой рациональной дроби:  "
   ]
  },
  {
   "cell_type": "markdown",
   "metadata": {},
   "source": [
    "$ a = 0.(216) $  \n",
    "$ 1000a = 216 + 0.(216) $  \n",
    "$ 1000a = 216 + a $  \n",
    "$ 999a = 216 $  \n",
    "$ a = \\frac{216}{999} = \\frac{8}{37} $"
   ]
  },
  {
   "cell_type": "markdown",
   "metadata": {},
   "source": [
    "$ a = 1.0(01) $  \n",
    "$ 10a = 10 + 0.(01) $  \n",
    "$ b = 0.(01) $  \n",
    "$ 100b = 1 + 0.(01) = 1 + b $  \n",
    "$ 99b = 1 $   \n",
    "$ b = \\frac{1}{99} $  \n",
    "$ 10a = 10 + \\frac{1}{99} = \\frac{991}{99} $  \n",
    "$ a = \\frac{991}{990} $"
   ]
  },
  {
   "cell_type": "markdown",
   "metadata": {},
   "source": [
    "#### Представьте 1 в виде суммы трех рациональных дробей с разными знаменателями и числителем равным 1."
   ]
  },
  {
   "cell_type": "markdown",
   "metadata": {},
   "source": [
    "$ \\frac{1}{6} + \\frac{1}{3} + \\frac{1}{2} = 1 $"
   ]
  },
  {
   "cell_type": "markdown",
   "metadata": {},
   "source": [
    "#### Тоже задание, только в виде суммы шести дробей.\n",
    "\n",
    "$ \\frac{1}{2} + \\frac{1}{4} + \\frac{1}{8} + \\frac{1}{16} + \\frac{1}{20} + \\frac{1}{80} = 1 $"
   ]
  },
  {
   "cell_type": "markdown",
   "metadata": {},
   "source": [
    "#### Найдите значение предела:\n",
    "\n",
    "$$ \\lim_{x\\to\\infty}(\\frac{1}{1\\times2} + \\frac{1}{2\\times3} + \\frac{1}{3\\times4} + \\dotsc + \\frac{1}{(n-1)\\times n}) = 1 $$"
   ]
  },
  {
   "cell_type": "markdown",
   "metadata": {},
   "source": [
    "## Предел последовательности"
   ]
  },
  {
   "cell_type": "markdown",
   "metadata": {},
   "source": [
    "#### Пользуясь критерием Коши, докажите сходимость последовательности: \n",
    "\n",
    "$$ a_n = \\frac{sin(1)}{2} + \\frac{sin(2)}{2^2} + \\frac{sin(3)}{2^3} + \\dots + \\frac{sin(n)}{2^n} $$"
   ]
  },
  {
   "cell_type": "markdown",
   "metadata": {},
   "source": [
    "Последовательность сходится, если имеет предел $ lim_{n\\to\\infty} a_n $"
   ]
  },
  {
   "cell_type": "markdown",
   "metadata": {},
   "source": [
    "$$ | a_n - a_{n+k} | = | \\frac{sin(n)}{2^n} - \\frac{sin(n+k)}{2^{n+k}} | = \\frac{1}{2^n}| sin(n) - \\frac{sin(n+k)}{2^{k}} | <= \\frac{1}{2^n} <= \\frac{1}{2^N(\\varepsilon)} = \\varepsilon $$  \n",
    "\n",
    "$$ \\frac{1}{2^N(\\varepsilon)} = \\varepsilon \\Rightarrow 2^N(\\varepsilon) = \\frac{1}{\\varepsilon} \\Rightarrow N(\\varepsilon) = -log_{2}\\varepsilon $$\n",
    "\n",
    "$$ N(10^{-7}) = -log_{2}10^{-7} \\approx 23.2534967 $$\n",
    "\n",
    "$$ a_{10} = \\frac{sin(10)}{2^{10}} = -0.0005317 <= 10^{-7} $$\n",
    "\n",
    "Предельное значение есть - значит последовательность сходится.\n",
    "Но, всё же, я, видимо, чего-то недопонимаю..."
   ]
  },
  {
   "cell_type": "markdown",
   "metadata": {},
   "source": [
    "#### Пользуясь критерием Коши, докажите расходимость последовательности\n",
    "\n",
    "$$ a_n = 1 + \\frac{1}{2} + \\frac{1}{3} + \\frac{1}{4} + \\dots + \\frac{1}{n} $$\n"
   ]
  },
  {
   "cell_type": "markdown",
   "metadata": {},
   "source": [
    "$$ | a_n - a_{n+k} | = | \\frac{1}{n} - \\frac{1}{n+k} | < \\frac{1}{n} < \\frac{1}{N(\\varepsilon)} = \\varepsilon $$\n",
    "$$ \\frac{1}{N(\\varepsilon)} = \\varepsilon \\Rightarrow N(\\varepsilon) = \\frac{1}{\\varepsilon} $$"
   ]
  },
  {
   "cell_type": "markdown",
   "metadata": {},
   "source": [
    "$$ N(10^{-3}) = \\frac{1}{10^{-3}} = 1000 $$\n",
    "$$ a_{10} = \\frac{1}{10} = 0.1 > 0.001 $$\n",
    "$$ a_{100} = \\frac{1}{100} = 0.01 > 0.001 $$\n",
    "\n",
    "Утверждение критерия Коши о том, что $ \\forall \\varepsilon > 0 \\exists N(\\varepsilon), \\forall n > N(\\varepsilon), k > 0 : |a_n - a_{n+k}| < \\varepsilon $ - не выполняется, значит предела не существует и последовательность расходится"
   ]
  },
  {
   "cell_type": "code",
   "execution_count": null,
   "metadata": {},
   "outputs": [],
   "source": []
  }
 ],
 "metadata": {
  "kernelspec": {
   "display_name": "Python 3",
   "language": "python",
   "name": "python3"
  },
  "language_info": {
   "codemirror_mode": {
    "name": "ipython",
    "version": 3
   },
   "file_extension": ".py",
   "mimetype": "text/x-python",
   "name": "python",
   "nbconvert_exporter": "python",
   "pygments_lexer": "ipython3",
   "version": "3.7.1"
  }
 },
 "nbformat": 4,
 "nbformat_minor": 2
}
