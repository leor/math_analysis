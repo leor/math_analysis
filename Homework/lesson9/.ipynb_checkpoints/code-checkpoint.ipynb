{
 "cells": [
  {
   "cell_type": "markdown",
   "metadata": {},
   "source": [
    "## Исследовать на условный экстремум:"
   ]
  },
  {
   "cell_type": "markdown",
   "metadata": {},
   "source": [
    "### 1. $ U = 3 − 8x + 6y $, если $ x^2 + y^2 = 36$"
   ]
  },
  {
   "cell_type": "markdown",
   "metadata": {},
   "source": [
    "$ L(\\lambda, x, y) = 3 - 8x + 6y + \\lambda(x^2+y^2-36) $  \n",
    "\n",
    "\\begin{equation*}\n",
    " \\begin{cases}\n",
    "  L'_x = -8+\\lambda 2x = 0\\\\\n",
    "  L'_y = 6 +\\lambda 2y = 0\\\\\n",
    "  L'_{\\lambda} = x^2+y^2-36 = 0\n",
    " \\end{cases}\n",
    " \\Rightarrow\n",
    " \\begin{cases}\n",
    "  x = \\frac{8}{2\\lambda}\\\\\n",
    "  y = -\\frac{6}{2\\lambda}\\\\\n",
    "  \\frac{25}{\\lambda^2}=36\n",
    " \\end{cases}\n",
    " \\Rightarrow\n",
    " \\begin{cases}\n",
    "  x = \\frac{4}{\\lambda}\\\\\n",
    "  y = -\\frac{3}{\\lambda}\\\\\n",
    "  \\lambda^2=\\frac{25}{36}\n",
    " \\end{cases}\n",
    "\\end{equation*}\n",
    "  \n",
    "$ (\\frac{5}{6}, \\frac{24}{5}, -\\frac{18}{5}), (-\\frac{5}{6}, -\\frac{24}{5}, \\frac{18}{5}) $\n",
    "  \n",
    "$ L'_x = -8+\\lambda 2x $  \n",
    "$ L'_y = 6 +\\lambda 2y $  \n",
    "$ L'_{\\lambda} = x^2+y^2-36 $  \n",
    "  \n",
    "$ L''_{xx} = 2\\lambda $  \n",
    "$ L''_{yy} = 2\\lambda $  \n",
    "$ L''_{\\lambda\\lambda} = 0 $  \n",
    "$ L''_{xy} = 0 $  \n",
    "$ L''_{x\\lambda} = 2x $  \n",
    "$ L''_{y\\lambda} = 2y $ \n",
    "  \n",
    "\\begin{pmatrix}\n",
    "  U''_{\\lambda\\lambda}, U''_{\\lambda x}, U''_{\\lambda y}\\\\\n",
    "  U''_{x\\lambda}, U''_{xx}, U''_{xy}\\\\\n",
    "  U''_{y\\lambda}, U''_{yx}, U''_{yy}\n",
    "\\end{pmatrix} = \n",
    "\\begin{pmatrix}\n",
    "  0,\\, 2x,\\, 2y\\\\\n",
    "  2x,\\, 2\\lambda,\\,0\\\\\n",
    "  2y,\\, 0,\\,2\\lambda\n",
    "\\end{pmatrix}"
   ]
  },
  {
   "cell_type": "markdown",
   "metadata": {},
   "source": [
    "\\begin{vmatrix}\n",
    "  0,\\, 2x,\\, 2y\\\\\n",
    "  2x,\\, 2\\lambda,\\,0\\\\\n",
    "  2y,\\, 0,\\,2\\lambda\n",
    "\\end{vmatrix} =\n",
    "$0 - 2x(2x\\lambda) + 2y(-2y\\lambda) = -8x^2\\lambda - 8y^2\\lambda = -8\\lambda(x^2 + y^2)$\n",
    "  \n",
    "$ (\\frac{5}{6}, \\frac{24}{5}, -\\frac{18}{5}) $  \n",
    "$ -8\\frac{5}{6}((\\frac{24}{5})^2 + (-\\frac{18}{5})^2) = -\\frac{40}{6}(\\frac{900}{25}) = -\\frac{1440}{6} = -240 < 0 $ - в этой точке функция имеет условный минимум  \n",
    "  \n",
    "$ (-\\frac{5}{6}, -\\frac{24}{5}, \\frac{18}{5}) $  \n",
    "$ 8\\frac{5}{6}((-\\frac{24}{5})^2 + (\\frac{18}{5})^2) = \\frac{40}{6}(\\frac{900}{25}) = 240 > 0 $ - в этой точке функция имеет условный максимум  "
   ]
  },
  {
   "cell_type": "markdown",
   "metadata": {},
   "source": [
    "### 2. $ U = 2x^2 + 12xy + 32y^2 + 15 $, если $ x^2 + 16y^2 = 64$"
   ]
  },
  {
   "cell_type": "markdown",
   "metadata": {},
   "source": [
    "$ L(\\lambda, x, y) = 2x^2 + 12xy + 32y^2 + 15 + \\lambda(x^2 + 16y^2 - 64) $  \n",
    "  \n",
    "\\begin{equation*}\n",
    " \\begin{cases}\n",
    "  L'_x = 4x+12y+\\lambda 2x = 0\\\\\n",
    "  L'_y = 12x + 64y +\\lambda 32y = 0\\\\\n",
    "  L'_{\\lambda} = x^2 + 16y^2 - 64 = 0\n",
    " \\end{cases}\n",
    " \\Rightarrow\n",
    " \\begin{cases}\n",
    "  \\lambda = \\frac{-2x - 6y}{x}\\\\\n",
    "  x = 4y\\\\\n",
    "  y = \\sqrt{2}\n",
    " \\end{cases}\n",
    " \\Rightarrow\n",
    " \\begin{cases}\n",
    "  x = 4\\sqrt{2}\\\\\n",
    "  y = \\sqrt{2}\\\\\n",
    "  \\lambda = - \\frac{7}{2}\n",
    " \\end{cases}\n",
    "\\end{equation*}\n",
    "  \n",
    "$ (- \\frac{7}{2}, 4\\sqrt{2}, \\sqrt{2}),  (\\frac{7}{2}, -4\\sqrt{2}, -\\sqrt{2}) $\n",
    "  \n",
    "$ L'_x = 4x+12y+\\lambda 2x $  \n",
    "$ L'_y = 12x + 64y +\\lambda 32y $  \n",
    "$ L'_{\\lambda} = x^2 + 16y^2 - 64 $  \n",
    "  \n",
    "$ L''_{xx} = 4 + 2\\lambda $  \n",
    "$ L''_{yy} = 64 + 32\\lambda $  \n",
    "$ L''_{\\lambda\\lambda} = 0 $  \n",
    "$ L''_{xy} = 12 $  \n",
    "$ L''_{x\\lambda} = 2x $  \n",
    "$ L''_{y\\lambda} = 32y $  \n",
    "  \n",
    "\\begin{pmatrix}\n",
    "  U''_{\\lambda\\lambda}, U''_{\\lambda x}, U''_{\\lambda y}\\\\\n",
    "  U''_{x\\lambda}, U''_{xx}, U''_{xy}\\\\\n",
    "  U''_{y\\lambda}, U''_{yx}, U''_{yy}\n",
    "\\end{pmatrix} = \n",
    "\\begin{pmatrix}\n",
    "  0,\\, 2x,\\, 32y\\\\\n",
    "  2x,\\, 4 + 2\\lambda,\\,12\\\\\n",
    "  32y,\\, 12,\\,64 + 32\\lambda\n",
    "\\end{pmatrix}"
   ]
  },
  {
   "cell_type": "markdown",
   "metadata": {},
   "source": [
    "\\begin{vmatrix}\n",
    "  0,\\, 2x,\\, 32y\\\\\n",
    "  2x,\\, 4 + 2\\lambda,\\,12\\\\\n",
    "  32y,\\, 12,\\,64 + 32\\lambda\n",
    "\\end{vmatrix}\n",
    "$ = 0 - 2x(2x(64+32\\lambda) - 12*32y) + 32y(2x*12 - 32y(4+2\\lambda)) = 0 - 2x(128x + 32x\\lambda - 384y) + 32y(24x - 128y - 64y\\lambda) = -256x^2 + 64x^2\\lambda - 4096y^2 - 2048y^2\\lambda $  \n",
    "  \n",
    "$ (-\\frac{7}{2}, 4\\sqrt{2}, \\sqrt{2}) $\n",
    "  \n",
    "$ -256*16*2 - 64*16 - 4096*2 + 2048*7 = -3072 < 0 $ - в этой точке функция имеет условный минимум \n",
    "  \n",
    "$ (\\frac{7}{2}, -4\\sqrt{2}, -\\sqrt{2}) $\n",
    "  \n",
    "$ -256*16*2 + 64*16 - 4096*2 - 2048*7 = -29696 < 0 $ - в этой точке функция имеет условный минимум  \n",
    "  \n",
    "2 минимума? как?"
   ]
  },
  {
   "cell_type": "markdown",
   "metadata": {},
   "source": [
    "## 3. Численно найти хотя бы один действительный корень системы нелинейных уравнений."
   ]
  },
  {
   "cell_type": "code",
   "execution_count": 1,
   "metadata": {},
   "outputs": [],
   "source": [
    "import numpy as np\n",
    "from scipy.optimize import fsolve, broyden1"
   ]
  },
  {
   "cell_type": "code",
   "execution_count": 2,
   "metadata": {},
   "outputs": [
    {
     "name": "stdout",
     "output_type": "stream",
     "text": [
      "fsolve result  -1.4829755052952838 -0.6838578977948689\n"
     ]
    },
    {
     "name": "stderr",
     "output_type": "stream",
     "text": [
      "/anaconda3/lib/python3.7/site-packages/scipy/optimize/minpack.py:163: RuntimeWarning: The iteration is not making good progress, as measured by the \n",
      "  improvement from the last five Jacobian evaluations.\n",
      "  warnings.warn(msg, RuntimeWarning)\n"
     ]
    }
   ],
   "source": [
    "def equations(params):\n",
    "    x, y = params\n",
    "    return (x**2 - y**2 + 3*x*y**3 - 2*x**2*y**2 + 2*x - 3*y - 5, 3*x**3 - 2*x**2 + 2*x**3*y + 5*x**2*y**2 + 5)\n",
    "\n",
    "rx, ry = fsolve(equations, (10, 10))\n",
    "print('fsolve result ', rx, ry)\n",
    "\n",
    "# падает в NoConvergence\n",
    "# bx, by = broyden1(equations, (10, 10), maxiter=100000)\n",
    "# print('broyden1 result ', bx, by)"
   ]
  },
  {
   "cell_type": "code",
   "execution_count": null,
   "metadata": {},
   "outputs": [],
   "source": []
  },
  {
   "cell_type": "code",
   "execution_count": null,
   "metadata": {},
   "outputs": [],
   "source": []
  }
 ],
 "metadata": {
  "kernelspec": {
   "display_name": "Python 3",
   "language": "python",
   "name": "python3"
  },
  "language_info": {
   "codemirror_mode": {
    "name": "ipython",
    "version": 3
   },
   "file_extension": ".py",
   "mimetype": "text/x-python",
   "name": "python",
   "nbconvert_exporter": "python",
   "pygments_lexer": "ipython3",
   "version": "3.7.1"
  }
 },
 "nbformat": 4,
 "nbformat_minor": 2
}
