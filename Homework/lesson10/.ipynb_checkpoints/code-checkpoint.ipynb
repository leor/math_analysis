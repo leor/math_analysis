{
 "cells": [
  {
   "cell_type": "markdown",
   "metadata": {},
   "source": [
    "## Тема 7 “Ряды”"
   ]
  },
  {
   "cell_type": "markdown",
   "metadata": {},
   "source": [
    "### 1. Исследовать ряд на сходимость, используя признак д’Аламбера:"
   ]
  },
  {
   "cell_type": "markdown",
   "metadata": {},
   "source": [
    "$$ \\sum_{n=1}^\\infty{\\frac{n^n}{(n!)^2}} \\Rightarrow lim_{n\\rightarrow\\infty}{\\frac{\\frac{(n+1)^{(n+1)}}{((n+1)!)^2}}{\\frac{n^n}{(n!)^2}}} = lim_{n\\rightarrow\\infty}{\\frac{(n+1)^{(n+1)} \\cdot (n!)^2}{((n+1)!)^2\\cdot n^n}} = lim_{n\\rightarrow\\infty}{\\frac{(n+1)^{(n+1)}}{(n+1)^2\\cdot n^n}} = lim_{n\\rightarrow\\infty}{\\frac{(n+1)^{(n-1)}}{n^n}} = 0  $$  \n",
    "$ lim < 1 \\Rightarrow $ ряд сходится "
   ]
  },
  {
   "cell_type": "markdown",
   "metadata": {},
   "source": [
    "### 2. Исследовать ряд на сходимость, используя радикальный признак Коши:"
   ]
  },
  {
   "cell_type": "markdown",
   "metadata": {},
   "source": [
    "$$ \\sum_{n=1}^\\infty{\\frac{n}{2^n}} \\Rightarrow sup(lim_{n\\rightarrow\\infty}{\\sqrt[n]{\\frac{n}{2^n}}}) = \\frac{1}{2}lim_{n\\rightarrow\\infty}{\\sqrt[n]{n}} = \\frac{1}{2} $$  \n",
    "$ lim < 1 \\Rightarrow $ ряд сходится "
   ]
  },
  {
   "cell_type": "markdown",
   "metadata": {},
   "source": [
    "### 3. Исследовать ряд на сходимость, используя признак Лейбница:"
   ]
  },
  {
   "cell_type": "markdown",
   "metadata": {},
   "source": [
    "$$ \\sum_{n=1}^\\infty{\\frac{(-1)^n}{n+ln(n)}} \\Rightarrow lim_{n\\rightarrow\\infty}{\\frac{1}{n+ln(n)}} = 0 $$  \n",
    "$ b_n \\geq b_{n+1}, n \\forall \\mathbb{N} $ и $ lim = 0 \\Rightarrow $ ряд сходится условно"
   ]
  },
  {
   "cell_type": "markdown",
   "metadata": {},
   "source": [
    "### 4. Исследовать ряд на сходимость, используя признак Раабе:"
   ]
  },
  {
   "cell_type": "markdown",
   "metadata": {},
   "source": [
    "$$ \\sum_{n=1}^\\infty{\\frac{3^n}{2^n}} \\Rightarrow \\lim_{n\\rightarrow\\infty}{n(\\frac{3^n\\cdot2^{n+1}}{2^n \\cdot 3^{n+1}} - 1)} = -1 $$  \n",
    "$ lim \\leq 1 \\Rightarrow $ ряд расходится"
   ]
  },
  {
   "cell_type": "markdown",
   "metadata": {},
   "source": [
    "### 5. Разложить функцию по Тейлору в единице:"
   ]
  },
  {
   "cell_type": "markdown",
   "metadata": {},
   "source": [
    "$$ f(x) = ln(16x^2), a = 1 $$  \n",
    "$$ ln(16x^2) = ln(16) + 2(x-1) - \\frac{2(x-1)^2}{2!} + \\frac{4(x-1)^3}{3!} ... = \\sum_{n=0}^{\\infty}{\\frac{-n(n+1)(x-1)^{(n+1)}}{(n+1)!}} $$"
   ]
  },
  {
   "cell_type": "markdown",
   "metadata": {},
   "source": [
    "### 6. не успеваю :("
   ]
  },
  {
   "cell_type": "markdown",
   "metadata": {},
   "source": [
    "## Тема 8 “Понятие об интеграле”"
   ]
  },
  {
   "cell_type": "markdown",
   "metadata": {},
   "source": [
    "### 1. Найти неопределенный интеграл:"
   ]
  },
  {
   "cell_type": "markdown",
   "metadata": {},
   "source": [
    "$$ \\int{(2x^2 - 2x - 1 + sin(x) - cos(x) + ln(x) + e^x)}dx = \\frac{2}{3}x^3 - x^2 - x + cos(x) + sin(x) + (xln(x)-x) + e^x + C $$"
   ]
  },
  {
   "cell_type": "markdown",
   "metadata": {},
   "source": [
    "### 2. Найти неопределенный интеграл:"
   ]
  },
  {
   "cell_type": "markdown",
   "metadata": {},
   "source": [
    "$$ \\int{(2x + 4xz^2 - 5x^2y - 3ln(z))dx} = x^2 + 2z^2x^2 - \\frac{5yx^3}{3} - 3xln(z) + C $$"
   ]
  },
  {
   "cell_type": "markdown",
   "metadata": {},
   "source": [
    "### 3. Вычислить определенный интеграл:"
   ]
  },
  {
   "cell_type": "markdown",
   "metadata": {},
   "source": [
    "$$ \\int_{0}^\\pi(3x^2sin(2x))dx = 3\\int_{0}^\\pi(x^2sin(2x))dx $$\n",
    "$$ u = x^2 \\Rightarrow du = dx = 2x $$\n",
    "$$ dv = sin(2x)dx \\Rightarrow v = \\int{sin(2x)dx} = -\\frac{1}{2}cos(2x) $$\n",
    "$$ 3\\int{udv} = uv - \\int{vdu} = 3(x^2(-\\frac{1}{2}cos(2x)) - \\int{-\\frac{1}{2}cos(2x)2x}) = 3(-\\frac{1}{2}x^2cos(2x) + \\frac{1}{2}xsin(2x) + \\frac{1}{4}cos(2x)) + C $$\n",
    "$$ F(x)\\mid_0^\\pi = F(\\pi) - F(0) = -\\frac{3\\pi^2}{2} $$"
   ]
  },
  {
   "cell_type": "markdown",
   "metadata": {},
   "source": [
    "### 4. Найти неопределенный интеграл:"
   ]
  },
  {
   "cell_type": "markdown",
   "metadata": {},
   "source": [
    "$$ \\int{\\frac{1}{\\sqrt{x+1}}}dx = 2(x+1)^{\\frac{1}{2}} + C $$"
   ]
  },
  {
   "cell_type": "code",
   "execution_count": null,
   "metadata": {},
   "outputs": [],
   "source": []
  }
 ],
 "metadata": {
  "kernelspec": {
   "display_name": "Python 3",
   "language": "python",
   "name": "python3"
  },
  "language_info": {
   "codemirror_mode": {
    "name": "ipython",
    "version": 3
   },
   "file_extension": ".py",
   "mimetype": "text/x-python",
   "name": "python",
   "nbconvert_exporter": "python",
   "pygments_lexer": "ipython3",
   "version": "3.7.1"
  }
 },
 "nbformat": 4,
 "nbformat_minor": 2
}
