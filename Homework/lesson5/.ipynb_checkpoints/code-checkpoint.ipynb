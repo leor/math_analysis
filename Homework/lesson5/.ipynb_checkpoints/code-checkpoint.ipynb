{
 "cells": [
  {
   "cell_type": "markdown",
   "metadata": {},
   "source": [
    "### Найти предел функции:"
   ]
  },
  {
   "cell_type": "markdown",
   "metadata": {},
   "source": [
    "1. $ lim_{x\\rightarrow\\infty}\\frac{(23-2x^2)(3x^2+17)^2}{4x^6+x-1} = -\\frac{9}{2} $  \n",
    "раскрыли скобки и оставили коэффициенты при старшей степени ($ x^6 $)"
   ]
  },
  {
   "cell_type": "markdown",
   "metadata": {},
   "source": [
    "2. $ lim_{x\\rightarrow\\infty}\\frac{(97-2x)^3}{2x(3x^2-15) + 8x} = \\frac{4}{3} $"
   ]
  },
  {
   "cell_type": "markdown",
   "metadata": {},
   "source": [
    "3. $ lim_{x\\rightarrow\\infty}\\frac{2x^3 + 13x(x+18)}{(27-x)(2x+19)^2} = -\\frac{1}{2} $"
   ]
  },
  {
   "cell_type": "markdown",
   "metadata": {},
   "source": [
    "4. $ lim_{x\\rightarrow6}\\frac{x^2-36}{x^2-x+30} = lim_{x\\rightarrow6}\\frac{(x-6)(x+6)}{(x-6)(x+5)} = \\frac{12}{11} $"
   ]
  },
  {
   "cell_type": "markdown",
   "metadata": {},
   "source": [
    "5. $ lim_{x\\rightarrow7}\\frac{x^2-49}{x^2-13x+42} = lim_{x\\rightarrow7}\\frac{(x-7)(x+7)}{(x-7)(x-6)} = 14 $"
   ]
  },
  {
   "cell_type": "markdown",
   "metadata": {},
   "source": [
    "6. $ lim_{x\\rightarrow7}\\frac{\\sqrt{x+2} - \\sqrt[3]{x+20}}{\\sqrt[4]{x+9}} = lim_{x\\rightarrow7}\\frac{\\sqrt{x+2} - \\sqrt[3]{x+20}}{\\sqrt[4]{x+9} - 2}\\times\\frac{\\sqrt{x+2} + \\sqrt[3]{x+20}}{\\sqrt{x+2} + \\sqrt[3]{x+20}}\\times\\frac{\\sqrt[4]{x+9} + 2}{\\sqrt[4]{x+9} + 2} = lim_{x\\rightarrow7}\\frac{x+2 + (x+20)^{\\frac{2}{3}}}{\\sqrt{x+9} - 4}\\times\\frac{\\sqrt[4]{x+9} + 2}{\\sqrt{x+2} + \\sqrt[3]{x+20}} = ? $  "
   ]
  },
  {
   "cell_type": "markdown",
   "metadata": {},
   "source": [
    "7. $ lim_{x\\rightarrow0}\\frac{\\sqrt{2}x^2sin4x}{(1-cos2x)^{\\frac{3}{2}}} = \\frac{\\sqrt{2} \\times 4}{\\sqrt{2^3}} = 2 $"
   ]
  },
  {
   "cell_type": "markdown",
   "metadata": {},
   "source": [
    "8. $ lim_{x\\rightarrow0}\\frac{3x tg4x}{1-cos4x} = \\frac{3 \\times 4}{4} = 3 $"
   ]
  },
  {
   "cell_type": "markdown",
   "metadata": {},
   "source": [
    "9. $ lim_{x\\rightarrow\\infty}(\\frac{4x}{4x+3})^{\\frac{5x^2}{7x-1}} = lim_{x\\rightarrow\\infty}(1 + \\frac{-3}{4x+3})^{\\frac{5x^2}{7x-1}} = e^{\\lim{x\\rightarrow\\infty}\\frac{-3}{4x+3}\\frac{5x^2}{7x-1}} = e^{\\lim{x\\rightarrow\\infty}\\frac{-15x^2}{28x^2+17x-3}} = e^\\frac{-15}{28} $"
   ]
  },
  {
   "cell_type": "markdown",
   "metadata": {},
   "source": [
    "10. $ lim_{x\\rightarrow+\\infty}\\frac{\\ln(x^2-x+1)}{\\ln(x^10+x+1)} = $"
   ]
  },
  {
   "cell_type": "markdown",
   "metadata": {},
   "source": [
    "11. $ lim_{x\\rightarrow0}\\frac{5^x-1}{x} =  $\n",
    "\n",
    "видимо, нужно избавиться от показательной функции, через логорифмирование и как-то свести всё ко 2му замечательному пределу"
   ]
  },
  {
   "cell_type": "markdown",
   "metadata": {},
   "source": [
    "и тут я заболел"
   ]
  },
  {
   "cell_type": "code",
   "execution_count": null,
   "metadata": {},
   "outputs": [],
   "source": []
  }
 ],
 "metadata": {
  "kernelspec": {
   "display_name": "Python 3",
   "language": "python",
   "name": "python3"
  },
  "language_info": {
   "codemirror_mode": {
    "name": "ipython",
    "version": 3
   },
   "file_extension": ".py",
   "mimetype": "text/x-python",
   "name": "python",
   "nbconvert_exporter": "python",
   "pygments_lexer": "ipython3",
   "version": "3.7.1"
  }
 },
 "nbformat": 4,
 "nbformat_minor": 2
}
